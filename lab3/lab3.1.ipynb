{
 "cells": [
  {
   "cell_type": "code",
   "execution_count": 124,
   "metadata": {},
   "outputs": [],
   "source": [
    "import tensorflow as tf\n",
    "from tensorflow import keras\n",
    "import numpy as np\n",
    "import pandas as pd\n",
    "import seaborn as sns\n",
    "from sklearn.utils import shuffle\n",
    "from sklearn.preprocessing import LabelEncoder, StandardScaler\n",
    "from sklearn.model_selection import train_test_split\n",
    "from sklearn.metrics import accuracy_score, classification_report, confusion_matrix"
   ]
  },
  {
   "cell_type": "code",
   "execution_count": 125,
   "metadata": {},
   "outputs": [],
   "source": [
    "# считуємо дані з файлу та перетворюємо тип риби в число\n",
    "dataset = shuffle(pd.read_csv(\"../lab1/fish.csv\"), random_state=42)\n",
    "le = LabelEncoder()\n",
    "dataset[\"Species\"] = le.fit_transform(dataset[\"Species\"])"
   ]
  },
  {
   "cell_type": "code",
   "execution_count": 126,
   "metadata": {},
   "outputs": [
    {
     "name": "stdout",
     "output_type": "stream",
     "text": [
      "(159, 4) (159,)\n"
     ]
    }
   ],
   "source": [
    "# розбиваємо дані на тренувальні та тестові\n",
    "X = dataset.drop([\"Species\", \"Length2\", \"Length3\"], axis=1)\n",
    "Y = dataset[\"Species\"]\n",
    "print(X.shape, Y.shape)\n",
    "X_train, X_test, Y_train, Y_test = train_test_split(X, Y, test_size=0.2, random_state=42)"
   ]
  },
  {
   "cell_type": "code",
   "execution_count": 127,
   "metadata": {},
   "outputs": [],
   "source": [
    "# нормуємо дані\n",
    "scaler = StandardScaler()\n",
    "scaler.fit(X_train)\n",
    "X_train = scaler.transform(X_train)\n",
    "X_test = scaler.transform(X_test)"
   ]
  },
  {
   "cell_type": "code",
   "execution_count": 128,
   "metadata": {},
   "outputs": [],
   "source": [
    "model = keras.Sequential([\n",
    "    keras.layers.Input(shape=(4,)),\n",
    "    keras.layers.Dense(8, activation='relu'),\n",
    "    keras.layers.Dense(7, activation='softmax')\n",
    "])"
   ]
  },
  {
   "cell_type": "code",
   "execution_count": 129,
   "metadata": {},
   "outputs": [],
   "source": [
    "model.compile(optimizer='sgd', loss='categorical_crossentropy')"
   ]
  },
  {
   "cell_type": "code",
   "execution_count": 130,
   "metadata": {},
   "outputs": [
    {
     "name": "stdout",
     "output_type": "stream",
     "text": [
      "Epoch 1/100\n"
     ]
    },
    {
     "name": "stdout",
     "output_type": "stream",
     "text": [
      "8/8 [==============================] - 0s 4ms/step - loss: 2.1150\n",
      "Epoch 2/100\n",
      "8/8 [==============================] - 0s 5ms/step - loss: 2.0730\n",
      "Epoch 3/100\n",
      "8/8 [==============================] - 0s 5ms/step - loss: 2.0349\n",
      "Epoch 4/100\n",
      "8/8 [==============================] - 0s 4ms/step - loss: 1.9995\n",
      "Epoch 5/100\n",
      "8/8 [==============================] - 0s 3ms/step - loss: 1.9677\n",
      "Epoch 6/100\n",
      "8/8 [==============================] - 0s 3ms/step - loss: 1.9376\n",
      "Epoch 7/100\n",
      "8/8 [==============================] - 0s 5ms/step - loss: 1.9098\n",
      "Epoch 8/100\n",
      "8/8 [==============================] - 0s 4ms/step - loss: 1.8838\n",
      "Epoch 9/100\n",
      "8/8 [==============================] - 0s 3ms/step - loss: 1.8599\n",
      "Epoch 10/100\n",
      "8/8 [==============================] - 0s 2ms/step - loss: 1.8373\n",
      "Epoch 11/100\n",
      "8/8 [==============================] - 0s 4ms/step - loss: 1.8158\n",
      "Epoch 12/100\n",
      "8/8 [==============================] - 0s 4ms/step - loss: 1.7961\n",
      "Epoch 13/100\n",
      "8/8 [==============================] - 0s 3ms/step - loss: 1.7780\n",
      "Epoch 14/100\n",
      "8/8 [==============================] - 0s 2ms/step - loss: 1.7608\n",
      "Epoch 15/100\n",
      "8/8 [==============================] - 0s 3ms/step - loss: 1.7446\n",
      "Epoch 16/100\n",
      "8/8 [==============================] - 0s 2ms/step - loss: 1.7299\n",
      "Epoch 17/100\n",
      "8/8 [==============================] - 0s 2ms/step - loss: 1.7162\n",
      "Epoch 18/100\n",
      "8/8 [==============================] - 0s 2ms/step - loss: 1.7027\n",
      "Epoch 19/100\n",
      "8/8 [==============================] - 0s 2ms/step - loss: 1.6902\n",
      "Epoch 20/100\n",
      "8/8 [==============================] - 0s 2ms/step - loss: 1.6779\n",
      "Epoch 21/100\n",
      "8/8 [==============================] - 0s 2ms/step - loss: 1.6662\n",
      "Epoch 22/100\n",
      "8/8 [==============================] - 0s 2ms/step - loss: 1.6547\n",
      "Epoch 23/100\n",
      "8/8 [==============================] - 0s 2ms/step - loss: 1.6436\n",
      "Epoch 24/100\n",
      "8/8 [==============================] - 0s 2ms/step - loss: 1.6325\n",
      "Epoch 25/100\n",
      "8/8 [==============================] - 0s 2ms/step - loss: 1.6218\n",
      "Epoch 26/100\n",
      "8/8 [==============================] - 0s 2ms/step - loss: 1.6115\n",
      "Epoch 27/100\n",
      "8/8 [==============================] - 0s 2ms/step - loss: 1.6007\n",
      "Epoch 28/100\n",
      "8/8 [==============================] - 0s 2ms/step - loss: 1.5910\n",
      "Epoch 29/100\n",
      "8/8 [==============================] - 0s 2ms/step - loss: 1.5807\n",
      "Epoch 30/100\n",
      "8/8 [==============================] - 0s 2ms/step - loss: 1.5708\n",
      "Epoch 31/100\n",
      "8/8 [==============================] - 0s 2ms/step - loss: 1.5610\n",
      "Epoch 32/100\n",
      "8/8 [==============================] - 0s 2ms/step - loss: 1.5510\n",
      "Epoch 33/100\n",
      "8/8 [==============================] - 0s 2ms/step - loss: 1.5414\n",
      "Epoch 34/100\n",
      "8/8 [==============================] - 0s 2ms/step - loss: 1.5322\n",
      "Epoch 35/100\n",
      "8/8 [==============================] - 0s 2ms/step - loss: 1.5223\n",
      "Epoch 36/100\n",
      "8/8 [==============================] - 0s 2ms/step - loss: 1.5130\n",
      "Epoch 37/100\n",
      "8/8 [==============================] - 0s 2ms/step - loss: 1.5036\n",
      "Epoch 38/100\n",
      "8/8 [==============================] - 0s 2ms/step - loss: 1.4944\n",
      "Epoch 39/100\n",
      "8/8 [==============================] - 0s 2ms/step - loss: 1.4851\n",
      "Epoch 40/100\n",
      "8/8 [==============================] - 0s 2ms/step - loss: 1.4759\n",
      "Epoch 41/100\n",
      "8/8 [==============================] - 0s 2ms/step - loss: 1.4671\n",
      "Epoch 42/100\n",
      "8/8 [==============================] - 0s 2ms/step - loss: 1.4582\n",
      "Epoch 43/100\n",
      "8/8 [==============================] - 0s 2ms/step - loss: 1.4490\n",
      "Epoch 44/100\n",
      "8/8 [==============================] - 0s 2ms/step - loss: 1.4404\n",
      "Epoch 45/100\n",
      "8/8 [==============================] - 0s 2ms/step - loss: 1.4315\n",
      "Epoch 46/100\n",
      "8/8 [==============================] - 0s 2ms/step - loss: 1.4225\n",
      "Epoch 47/100\n",
      "8/8 [==============================] - 0s 2ms/step - loss: 1.4139\n",
      "Epoch 48/100\n",
      "8/8 [==============================] - 0s 3ms/step - loss: 1.4052\n",
      "Epoch 49/100\n",
      "8/8 [==============================] - 0s 2ms/step - loss: 1.3968\n",
      "Epoch 50/100\n",
      "8/8 [==============================] - 0s 2ms/step - loss: 1.3879\n",
      "Epoch 51/100\n",
      "8/8 [==============================] - 0s 2ms/step - loss: 1.3790\n",
      "Epoch 52/100\n",
      "8/8 [==============================] - 0s 2ms/step - loss: 1.3707\n",
      "Epoch 53/100\n",
      "8/8 [==============================] - 0s 2ms/step - loss: 1.3622\n",
      "Epoch 54/100\n",
      "8/8 [==============================] - 0s 3ms/step - loss: 1.3539\n",
      "Epoch 55/100\n",
      "8/8 [==============================] - 0s 2ms/step - loss: 1.3455\n",
      "Epoch 56/100\n",
      "8/8 [==============================] - 0s 2ms/step - loss: 1.3372\n",
      "Epoch 57/100\n",
      "8/8 [==============================] - 0s 2ms/step - loss: 1.3291\n",
      "Epoch 58/100\n",
      "8/8 [==============================] - 0s 2ms/step - loss: 1.3217\n",
      "Epoch 59/100\n",
      "8/8 [==============================] - 0s 2ms/step - loss: 1.3126\n",
      "Epoch 60/100\n",
      "8/8 [==============================] - 0s 2ms/step - loss: 1.3048\n",
      "Epoch 61/100\n",
      "8/8 [==============================] - 0s 2ms/step - loss: 1.2966\n",
      "Epoch 62/100\n",
      "8/8 [==============================] - 0s 2ms/step - loss: 1.2888\n",
      "Epoch 63/100\n",
      "8/8 [==============================] - 0s 2ms/step - loss: 1.2810\n",
      "Epoch 64/100\n",
      "8/8 [==============================] - 0s 2ms/step - loss: 1.2733\n",
      "Epoch 65/100\n",
      "8/8 [==============================] - 0s 2ms/step - loss: 1.2656\n",
      "Epoch 66/100\n",
      "8/8 [==============================] - 0s 2ms/step - loss: 1.2581\n",
      "Epoch 67/100\n",
      "8/8 [==============================] - 0s 2ms/step - loss: 1.2507\n",
      "Epoch 68/100\n",
      "8/8 [==============================] - 0s 2ms/step - loss: 1.2431\n",
      "Epoch 69/100\n",
      "8/8 [==============================] - 0s 2ms/step - loss: 1.2359\n",
      "Epoch 70/100\n",
      "8/8 [==============================] - 0s 2ms/step - loss: 1.2288\n",
      "Epoch 71/100\n",
      "8/8 [==============================] - 0s 2ms/step - loss: 1.2215\n",
      "Epoch 72/100\n",
      "8/8 [==============================] - 0s 2ms/step - loss: 1.2147\n",
      "Epoch 73/100\n",
      "8/8 [==============================] - 0s 2ms/step - loss: 1.2073\n",
      "Epoch 74/100\n",
      "8/8 [==============================] - 0s 3ms/step - loss: 1.2011\n",
      "Epoch 75/100\n",
      "8/8 [==============================] - 0s 5ms/step - loss: 1.1941\n",
      "Epoch 76/100\n",
      "8/8 [==============================] - 0s 4ms/step - loss: 1.1874\n",
      "Epoch 77/100\n",
      "8/8 [==============================] - 0s 3ms/step - loss: 1.1807\n",
      "Epoch 78/100\n",
      "8/8 [==============================] - 0s 5ms/step - loss: 1.1744\n",
      "Epoch 79/100\n",
      "8/8 [==============================] - 0s 6ms/step - loss: 1.1681\n",
      "Epoch 80/100\n",
      "8/8 [==============================] - 0s 3ms/step - loss: 1.1617\n",
      "Epoch 81/100\n",
      "8/8 [==============================] - 0s 2ms/step - loss: 1.1555\n",
      "Epoch 82/100\n",
      "8/8 [==============================] - 0s 2ms/step - loss: 1.1496\n",
      "Epoch 83/100\n",
      "8/8 [==============================] - 0s 2ms/step - loss: 1.1433\n",
      "Epoch 84/100\n",
      "8/8 [==============================] - 0s 2ms/step - loss: 1.1373\n",
      "Epoch 85/100\n",
      "8/8 [==============================] - 0s 2ms/step - loss: 1.1317\n",
      "Epoch 86/100\n",
      "8/8 [==============================] - 0s 2ms/step - loss: 1.1264\n",
      "Epoch 87/100\n",
      "8/8 [==============================] - 0s 2ms/step - loss: 1.1203\n",
      "Epoch 88/100\n",
      "8/8 [==============================] - 0s 3ms/step - loss: 1.1148\n",
      "Epoch 89/100\n",
      "8/8 [==============================] - 0s 3ms/step - loss: 1.1094\n",
      "Epoch 90/100\n",
      "8/8 [==============================] - 0s 4ms/step - loss: 1.1044\n",
      "Epoch 91/100\n",
      "8/8 [==============================] - 0s 4ms/step - loss: 1.0989\n",
      "Epoch 92/100\n",
      "8/8 [==============================] - 0s 4ms/step - loss: 1.0932\n",
      "Epoch 93/100\n",
      "8/8 [==============================] - 0s 3ms/step - loss: 1.0881\n",
      "Epoch 94/100\n",
      "8/8 [==============================] - 0s 2ms/step - loss: 1.0828\n",
      "Epoch 95/100\n",
      "8/8 [==============================] - 0s 2ms/step - loss: 1.0779\n",
      "Epoch 96/100\n",
      "8/8 [==============================] - 0s 3ms/step - loss: 1.0734\n",
      "Epoch 97/100\n",
      "8/8 [==============================] - 0s 2ms/step - loss: 1.0677\n",
      "Epoch 98/100\n",
      "8/8 [==============================] - 0s 2ms/step - loss: 1.0632\n",
      "Epoch 99/100\n",
      "8/8 [==============================] - 0s 2ms/step - loss: 1.0581\n",
      "Epoch 100/100\n",
      "8/8 [==============================] - 0s 2ms/step - loss: 1.0536\n"
     ]
    },
    {
     "data": {
      "text/plain": [
       "<keras.src.callbacks.History at 0x1d7a6968c10>"
      ]
     },
     "execution_count": 130,
     "metadata": {},
     "output_type": "execute_result"
    }
   ],
   "source": [
    "model.fit(X_train, tf.one_hot(Y_train, 7), epochs=100, batch_size=16)"
   ]
  },
  {
   "cell_type": "code",
   "execution_count": 131,
   "metadata": {},
   "outputs": [
    {
     "name": "stdout",
     "output_type": "stream",
     "text": [
      "1/1 [==============================] - 0s 72ms/step\n",
      "[[0.14371772 0.08923186 0.3692706  0.14015399 0.11233988 0.06597472\n",
      "  0.07931126]\n",
      " [0.11392953 0.09571224 0.4467792  0.07556848 0.14147791 0.05754981\n",
      "  0.0689828 ]\n",
      " [0.08087464 0.09719145 0.27426967 0.25876686 0.08718933 0.10345454\n",
      "  0.09825347]\n",
      " [0.74536145 0.10906291 0.02225182 0.00936736 0.04537768 0.05782845\n",
      "  0.01075037]\n",
      " [0.00878788 0.0766876  0.38534418 0.00906936 0.15444095 0.31607383\n",
      "  0.04959634]\n",
      " [0.0053223  0.06666643 0.23279159 0.00442732 0.11745934 0.5409247\n",
      "  0.03240823]\n",
      " [0.0616412  0.0933886  0.48362908 0.04781064 0.15797542 0.08440768\n",
      "  0.07114738]\n",
      " [0.7133168  0.1161152  0.03096787 0.01180834 0.05376424 0.06099364\n",
      "  0.01303391]\n",
      " [0.65794206 0.12707847 0.04939331 0.01509164 0.07051347 0.0624597\n",
      "  0.01752133]\n",
      " [0.04196875 0.11455854 0.4059202  0.01765198 0.18386751 0.18085603\n",
      "  0.055177  ]\n",
      " [0.7200155  0.11364502 0.02852019 0.01208971 0.05043567 0.06263907\n",
      "  0.01265483]\n",
      " [0.05748286 0.09319144 0.18298744 0.3730114  0.0618346  0.13059275\n",
      "  0.10089952]\n",
      " [0.79909945 0.0951898  0.01222805 0.00536663 0.03293679 0.0485948\n",
      "  0.00658445]\n",
      " [0.6713087  0.12468351 0.0441424  0.01443834 0.06620813 0.06261093\n",
      "  0.01660792]\n",
      " [0.80714583 0.09271282 0.01102788 0.00489028 0.03103614 0.04717023\n",
      "  0.00601676]\n",
      " [0.0554952  0.09088847 0.18183805 0.37392437 0.0617937  0.13220504\n",
      "  0.10385519]\n",
      " [0.04890706 0.08830155 0.17134437 0.3973606  0.05760344 0.13527781\n",
      "  0.10120524]\n",
      " [0.08149134 0.10996139 0.44287542 0.03793363 0.17010224 0.09394779\n",
      "  0.06368814]\n",
      " [0.07645956 0.09102134 0.4936115  0.05505398 0.15457302 0.05931588\n",
      "  0.06996473]\n",
      " [0.15233476 0.08918288 0.36071303 0.14113393 0.1109354  0.06637724\n",
      "  0.07932273]\n",
      " [0.16625246 0.08847416 0.3624175  0.12445894 0.11610501 0.06347896\n",
      "  0.07881295]\n",
      " [0.11173674 0.12097457 0.39441273 0.03903524 0.16896236 0.10383048\n",
      "  0.06104781]\n",
      " [0.72361326 0.11444145 0.02745843 0.01077885 0.05146479 0.05960395\n",
      "  0.01263932]\n",
      " [0.05504598 0.09182835 0.20245741 0.37353602 0.06313647 0.12365491\n",
      "  0.09034087]\n",
      " [0.02260431 0.09200872 0.46064636 0.01599356 0.1750094  0.17684749\n",
      "  0.05689018]\n",
      " [0.00519337 0.0702127  0.21701771 0.00264863 0.12574051 0.5517475\n",
      "  0.0274396 ]\n",
      " [0.05737427 0.09168058 0.5042104  0.04173382 0.16213876 0.0748083\n",
      "  0.06805383]\n",
      " [0.00476748 0.06469247 0.25508156 0.00454505 0.12129302 0.51522136\n",
      "  0.03439905]\n",
      " [0.07801223 0.09711252 0.3020633  0.2232026  0.09725564 0.09740628\n",
      "  0.10494748]\n",
      " [0.00913851 0.078294   0.3561649  0.00901014 0.14971453 0.34956533\n",
      "  0.04811255]\n",
      " [0.11251909 0.12079467 0.40962824 0.03679383 0.17441745 0.08519104\n",
      "  0.06065563]\n",
      " [0.73209584 0.11224345 0.02506762 0.01036066 0.0487638  0.05943736\n",
      "  0.01203133]]\n"
     ]
    }
   ],
   "source": [
    "Y_pred = model.predict(X_test)\n",
    "print(Y_pred)"
   ]
  },
  {
   "cell_type": "code",
   "execution_count": 132,
   "metadata": {},
   "outputs": [
    {
     "name": "stdout",
     "output_type": "stream",
     "text": [
      "[2 2 2 0 2 5 2 0 0 2 0 3 0 0 0 3 3 2 2 2 2 2 0 3 2 5 2 5 2 2 2 0]\n"
     ]
    }
   ],
   "source": [
    "Y_pred = np.argmax(Y_pred, axis=1)\n",
    "print(Y_pred)"
   ]
  },
  {
   "cell_type": "code",
   "execution_count": 133,
   "metadata": {},
   "outputs": [
    {
     "name": "stdout",
     "output_type": "stream",
     "text": [
      "0.75\n"
     ]
    }
   ],
   "source": [
    "print(accuracy_score(Y_test, Y_pred))"
   ]
  },
  {
   "cell_type": "code",
   "execution_count": 134,
   "metadata": {},
   "outputs": [
    {
     "name": "stdout",
     "output_type": "stream",
     "text": [
      "              precision    recall  f1-score   support\n",
      "\n",
      "           0       1.00      1.00      1.00         9\n",
      "           2       0.56      0.90      0.69        10\n",
      "           3       1.00      0.67      0.80         6\n",
      "           4       0.00      0.00      0.00         3\n",
      "           5       0.67      0.50      0.57         4\n",
      "\n",
      "    accuracy                           0.75        32\n",
      "   macro avg       0.65      0.61      0.61        32\n",
      "weighted avg       0.73      0.75      0.72        32\n",
      "\n"
     ]
    },
    {
     "name": "stderr",
     "output_type": "stream",
     "text": [
      "c:\\Users\\ASUS\\AppData\\Local\\Programs\\Python\\Python310\\lib\\site-packages\\sklearn\\metrics\\_classification.py:1471: UndefinedMetricWarning: Precision and F-score are ill-defined and being set to 0.0 in labels with no predicted samples. Use `zero_division` parameter to control this behavior.\n",
      "  _warn_prf(average, modifier, msg_start, len(result))\n",
      "c:\\Users\\ASUS\\AppData\\Local\\Programs\\Python\\Python310\\lib\\site-packages\\sklearn\\metrics\\_classification.py:1471: UndefinedMetricWarning: Precision and F-score are ill-defined and being set to 0.0 in labels with no predicted samples. Use `zero_division` parameter to control this behavior.\n",
      "  _warn_prf(average, modifier, msg_start, len(result))\n",
      "c:\\Users\\ASUS\\AppData\\Local\\Programs\\Python\\Python310\\lib\\site-packages\\sklearn\\metrics\\_classification.py:1471: UndefinedMetricWarning: Precision and F-score are ill-defined and being set to 0.0 in labels with no predicted samples. Use `zero_division` parameter to control this behavior.\n",
      "  _warn_prf(average, modifier, msg_start, len(result))\n"
     ]
    }
   ],
   "source": [
    "print(classification_report(Y_test, Y_pred))"
   ]
  },
  {
   "cell_type": "code",
   "execution_count": 135,
   "metadata": {},
   "outputs": [
    {
     "data": {
      "text/plain": [
       "<Axes: >"
      ]
     },
     "execution_count": 135,
     "metadata": {},
     "output_type": "execute_result"
    },
    {
     "data": {
      "image/png": "[encoded data removed]",
      "text/plain": [
       "<Figure size 640x480 with 2 Axes>"
      ]
     },
     "metadata": {},
     "output_type": "display_data"
    }
   ],
   "source": [
    "sns.heatmap(confusion_matrix(Y_test, Y_pred), cmap=\"coolwarm\", annot=True, fmt=\"d\")"
   ]
  }
 ],
 "metadata": {
  "kernelspec": {
   "display_name": "Python 3",
   "language": "python",
   "name": "python3"
  },
  "language_info": {
   "codemirror_mode": {
    "name": "ipython",
    "version": 3
   },
   "file_extension": ".py",
   "mimetype": "text/x-python",
   "name": "python",
   "nbconvert_exporter": "python",
   "pygments_lexer": "ipython3",
   "version": "3.10.0"
  }
 },
 "nbformat": 4,
 "nbformat_minor": 2
}
