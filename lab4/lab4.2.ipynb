{
 "cells": [
  {
   "cell_type": "code",
   "execution_count": 2,
   "metadata": {},
   "outputs": [],
   "source": [
    "from transformers import pipeline"
   ]
  },
  {
   "cell_type": "code",
   "execution_count": 9,
   "metadata": {},
   "outputs": [
    {
     "name": "stderr",
     "output_type": "stream",
     "text": [
      "config.json: 100%|██████████| 615/615 [00:00<00:00, 630kB/s]\n",
      "model.safetensors: 100%|██████████| 1.12G/1.12G [08:11<00:00, 2.27MB/s]\n",
      "All PyTorch model weights were used when initializing TFXLMRobertaForMaskedLM.\n",
      "\n",
      "All the weights of TFXLMRobertaForMaskedLM were initialized from the PyTorch model.\n",
      "If your task is similar to the task the model of the checkpoint was trained on, you can already use TFXLMRobertaForMaskedLM for predictions without further training.\n",
      "sentencepiece.bpe.model: 100%|██████████| 5.07M/5.07M [00:01<00:00, 4.72MB/s]\n",
      "tokenizer.json: 100%|██████████| 9.10M/9.10M [00:02<00:00, 4.30MB/s]\n"
     ]
    },
    {
     "data": {
      "text/plain": [
       "[{'score': 0.11268546432256699,\n",
       "  'token': 210229,\n",
       "  'token_str': 'Ірина',\n",
       "  'sequence': 'Привіт. Мене звати Ірина.'},\n",
       " {'score': 0.07346946746110916,\n",
       "  'token': 219753,\n",
       "  'token_str': 'Юлія',\n",
       "  'sequence': 'Привіт. Мене звати Юлія.'},\n",
       " {'score': 0.07140897959470749,\n",
       "  'token': 157456,\n",
       "  'token_str': 'Ольга',\n",
       "  'sequence': 'Привіт. Мене звати Ольга.'},\n",
       " {'score': 0.07013741880655289,\n",
       "  'token': 158603,\n",
       "  'token_str': 'Анна',\n",
       "  'sequence': 'Привіт. Мене звати Анна.'},\n",
       " {'score': 0.0646190419793129,\n",
       "  'token': 232372,\n",
       "  'token_str': 'Наталія',\n",
       "  'sequence': 'Привіт. Мене звати Наталія.'}]"
      ]
     },
     "execution_count": 9,
     "metadata": {},
     "output_type": "execute_result"
    }
   ],
   "source": [
    "unmasker = pipeline('fill-mask', model='xlm-roberta-base')\n",
    "unmasker(\"Привіт. Мене звати <mask>.\")"
   ]
  },
  {
   "cell_type": "code",
   "execution_count": 7,
   "metadata": {},
   "outputs": [
    {
     "name": "stderr",
     "output_type": "stream",
     "text": [
      "Some weights of the PyTorch model were not used when initializing the TF 2.0 model TFBertForMaskedLM: ['bert.embeddings.position_ids']\n",
      "- This IS expected if you are initializing TFBertForMaskedLM from a PyTorch model trained on another task or with another architecture (e.g. initializing a TFBertForSequenceClassification model from a BertForPreTraining model).\n",
      "- This IS NOT expected if you are initializing TFBertForMaskedLM from a PyTorch model that you expect to be exactly identical (e.g. initializing a TFBertForSequenceClassification model from a BertForSequenceClassification model).\n",
      "All the weights of TFBertForMaskedLM were initialized from the PyTorch model.\n",
      "If your task is similar to the task the model of the checkpoint was trained on, you can already use TFBertForMaskedLM for predictions without further training.\n"
     ]
    },
    {
     "data": {
      "text/plain": [
       "[{'score': 0.73514723777771,\n",
       "  'token': 5656,\n",
       "  'token_str': 'світі',\n",
       "  'sequence': 'У світі розпочалися значущі зміни в енергетичному світі.'},\n",
       " {'score': 0.07187160104513168,\n",
       "  'token': 4469,\n",
       "  'token_str': 'регіоні',\n",
       "  'sequence': 'У світі розпочалися значущі зміни в енергетичному регіоні.'},\n",
       " {'score': 0.06700332462787628,\n",
       "  'token': 4304,\n",
       "  'token_str': 'розвитку',\n",
       "  'sequence': 'У світі розпочалися значущі зміни в енергетичному розвитку.'},\n",
       " {'score': 0.016774218529462814,\n",
       "  'token': 10222,\n",
       "  'token_str': 'порядку',\n",
       "  'sequence': 'У світі розпочалися значущі зміни в енергетичному порядку.'},\n",
       " {'score': 0.01419653370976448,\n",
       "  'token': 8260,\n",
       "  'token_str': 'процесі',\n",
       "  'sequence': 'У світі розпочалися значущі зміни в енергетичному процесі.'}]"
      ]
     },
     "execution_count": 7,
     "metadata": {},
     "output_type": "execute_result"
    }
   ],
   "source": [
    "unmasker = pipeline('fill-mask', model='Geotrend/bert-base-uk-cased')\n",
    "unmasker(\"У світі розпочалися значущі зміни в енергетичному [MASK].\")"
   ]
  },
  {
   "cell_type": "code",
   "execution_count": 5,
   "metadata": {},
   "outputs": [
    {
     "name": "stderr",
     "output_type": "stream",
     "text": [
      "Some weights of the PyTorch model were not used when initializing the TF 2.0 model TFRobertaForQuestionAnswering: ['roberta.embeddings.position_ids']\n",
      "- This IS expected if you are initializing TFRobertaForQuestionAnswering from a PyTorch model trained on another task or with another architecture (e.g. initializing a TFBertForSequenceClassification model from a BertForPreTraining model).\n",
      "- This IS NOT expected if you are initializing TFRobertaForQuestionAnswering from a PyTorch model that you expect to be exactly identical (e.g. initializing a TFBertForSequenceClassification model from a BertForSequenceClassification model).\n",
      "All the weights of TFRobertaForQuestionAnswering were initialized from the PyTorch model.\n",
      "If your task is similar to the task the model of the checkpoint was trained on, you can already use TFRobertaForQuestionAnswering for predictions without further training.\n"
     ]
    },
    {
     "data": {
      "text/plain": [
       "{'score': 0.9070461988449097, 'start': 31, 'end': 37, 'answer': 'London'}"
      ]
     },
     "execution_count": 5,
     "metadata": {},
     "output_type": "execute_result"
    }
   ],
   "source": [
    "model_name = \"deepset/roberta-base-squad2\"\n",
    "nlp = pipeline('question-answering', model=model_name, tokenizer=model_name)\n",
    "\n",
    "QA_input = {\n",
    "  'question': 'Where do I live?',\n",
    "  'context': 'My name is Sarah and I live in London.'\n",
    "}\n",
    "nlp(QA_input)"
   ]
  }
 ],
 "metadata": {
  "kernelspec": {
   "display_name": "Python 3",
   "language": "python",
   "name": "python3"
  },
  "language_info": {
   "codemirror_mode": {
    "name": "ipython",
    "version": 3
   },
   "file_extension": ".py",
   "mimetype": "text/x-python",
   "name": "python",
   "nbconvert_exporter": "python",
   "pygments_lexer": "ipython3",
   "version": "3.10.0"
  }
 },
 "nbformat": 4,
 "nbformat_minor": 2
}
